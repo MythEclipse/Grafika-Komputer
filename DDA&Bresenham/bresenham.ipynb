{
 "cells": [
  {
   "cell_type": "markdown",
   "metadata": {},
   "source": [
    "# Implementasi Algoritma Bresenham"
   ]
  },
  {
   "cell_type": "markdown",
   "metadata": {},
   "source": [
    "## 1. Preparing\n",
    "\n",
    "Kita mengimpor `matplotlib.pyplot` untuk visualisasi grafiknya."
   ]
  },
  {
   "cell_type": "code",
   "execution_count": null,
   "metadata": {},
   "outputs": [],
   "source": [
    "import matplotlib.pyplot as plt\n",
    "from matplotlib.ticker import MaxNLocator"
   ]
  },
  {
   "cell_type": "markdown",
   "metadata": {},
   "source": [
    "## 2. Input Titik\n",
    "\n",
    "Meminta input dari pengguna untuk menentukan koordinat Titik A $(x_a, y_a)$ dan Titik B $(x_b, y_b)$. Algoritma Bresenham secara fundamental bekerja dengan koordinat integer (piksel)."
   ]
  },
  {
   "cell_type": "code",
   "execution_count": null,
   "metadata": {},
   "outputs": [],
   "source": [
    "# Algoritma Bresenham dirancang untuk integer (grid piksel)\n",
    "x_a = int(input(\"Masukkan koordinat x untuk Titik A: \"))\n",
    "y_a = int(input(\"Masukkan koordinat y untuk Titik A: \"))\n",
    "x_b = int(input(\"Masukkan koordinat x untuk Titik B: \"))\n",
    "y_b = int(input(\"Masukkan koordinat y untuk Titik B: \"))"
   ]
  },
  {
   "cell_type": "markdown",
   "metadata": {},
   "source": [
    "## 3. Algoritma Bresenham\n",
    "\n",
    "Bagian ini berisi logika inti dari algoritma Bresenham.\n",
    "\n",
    "1.  Menyalin titik awal $(x_1, y_1)$ dan akhir $(x_2, y_2)$.\n",
    "2.  Menghitung $dx$ (selisih $x$) dan $dy$ (selisih $y$) secara absolut.\n",
    "3.  Menentukan arah langkah `sx` (1 atau -1) dan `sy` (1 atau -1).\n",
    "4.  Menginisialisasi parameter error (keputusan), `err = dx - dy`.\n",
    "5.  Melakukan iterasi:* Simpan titik $(x_1, y_1)$ saat ini.\n",
    "    * Hentikan jika $(x_1, y_1)$ sudah sama dengan $(x_2, y_2)$.\n",
    "    * Hitung error berikutnya (`e2 = 2 * err`).\n",
    "    * Jika `e2 > -dy`, artinya error lebih condong ke arah $x$, maka $err$ dikurangi $dy$ dan $x_1$ melangkah sejauh `sx`.\n",
    "    * Jika `e2 < dx`, artinya error lebih condong ke arah $y$, maka $err$ ditambah $dx$ dan $y_1$ melangkah sejauh `sy`.\n",
    "6.  Menampilkan semua koordinat yang dihitung."
   ]
  },
  {
   "cell_type": "code",
   "execution_count": null,
   "metadata": {},
   "outputs": [],
   "source": [
    "# Salin titik agar tidak mengubah nilai input asli\n",
    "x1, y1 = x_a, y_a\n",
    "x2, y2 = x_b, y_b\n",
    "\n",
    "# List untuk menyimpan koordinat yang dihitung\n",
    "x_coords = []\n",
    "y_coords = []\n",
    "\n",
    "# Hitung perbedaan absolut (delta)\n",
    "dx = abs(x2 - x1)\n",
    "dy = abs(y2 - y1)\n",
    "\n",
    "# Tentukan arah langkah (sign) untuk x dan y\n",
    "sx = 1 if x1 < x2 else -1\n",
    "sy = 1 if y1 < y2 else -1\n",
    "\n",
    "# Inisialisasi parameter error (keputusan)\n",
    "err = dx - dy\n",
    "\n",
    "while True:\n",
    "    # Tambahkan (plot) titik saat ini\n",
    "    x_coords.append(x1)\n",
    "    y_coords.append(y1)\n",
    "\n",
    "    # Hentikan loop jika sudah sampai di titik akhir\n",
    "    if x1 == x2 and y1 == y2:\n",
    "        break\n",
    "    \n",
    "    # e2 adalah error \"look-ahead\" untuk keputusan\n",
    "    e2 = 2 * err\n",
    "\n",
    "    # Cek apakah perlu melangkah di sumbu x\n",
    "    if e2 > -dy:\n",
    "        err -= dy\n",
    "        x1 += sx\n",
    "\n",
    "    # Cek apakah perlu melangkah di sumbu y\n",
    "    if e2 < dx:\n",
    "        err += dx\n",
    "        y1 += sy\n",
    "\n",
    "# Tampilkan hasil koordinat\n",
    "print(\"Koordinat titik-titik yang dihitung (Bresenham):\")\n",
    "for i in range(len(x_coords)):\n",
    "    print(f\"({x_coords[i]}, {y_coords[i]})\")"
   ]
  },
  {
   "cell_type": "markdown",
   "metadata": {},
   "source": [
    "## 4. Gambar Garis & 5. Tampilkan Grafik\n",
    "\n",
    "Menggunakan koordinat integer yang telah dihitung untuk menggambar piksel-piksel yang dipilih oleh algoritma. Kita akan menggunakan `scatter` dengan penanda kotak `marker='s'` untuk merepresentasikan piksel dengan lebih baik."
   ]
  },
  {
   "cell_type": "code",
   "execution_count": null,
   "metadata": {},
   "outputs": [],
   "source": [
    "fig, ax = plt.subplots()\n",
    "\n",
    "# Gambar garis ideal sebagai referensi (tipis, abu-abu)\n",
    "ax.plot([x_a, x_b], [y_a, y_b], linestyle='--', color='gray', label='Garis Ideal')\n",
    "\n",
    "# Gambar piksel yang dihitung oleh Bresenham\n",
    "ax.scatter(x_coords, y_coords, marker='s', color='blue', label='Piksel Bresenham', s=100)\n",
    "\n",
    "ax.set_title(\"Hasil Algoritma Bresenham\")\n",
    "ax.set_xlabel(\"Koordinat X\")\n",
    "ax.set_ylabel(\"Koordinat Y\")\n",
    "ax.grid(True)\n",
    "ax.set_aspect('equal', adjustable='box')\n",
    "ax.legend()\n",
    "\n",
    "# Paksa sumbu untuk menampilkan integer, karena ini grid piksel\n",
    "ax.xaxis.set_major_locator(MaxNLocator(integer=True))\n",
    "ax.yaxis.set_major_locator(MaxNLocator(integer=True))\n",
    "\n",
    "plt.show()"
   ]
  },
  {
   "cell_type": "markdown",
   "metadata": {},
   "source": [
    "## 6. Finish Task\n",
    "\n",
    "Program telah selesai dieksekusi dan grafik piksel telah ditampilkan."
   ]
  }
 ],
 "metadata": {
  "kernelspec": {
   "display_name": "Python 3 (ipykernel)",
   "language": "python",
   "name": "python3"
  },
  "language_info": {
   "codemirror_mode": {
    "name": "ipython",
    "version": 3
   },
   "file_extension": ".py",
   "mimetype": "text/x-python",
   "name": "python",
   "nbconvert_exporter": "python",
   "pygments_lexer": "ipython3",
   "version": "3.11.7"
  }
 },
 "nbformat": 4,
 "nbformat_minor": 5
}
