{
 "cells": [
  {
   "cell_type": "markdown",
   "metadata": {},
   "source": [
    "# Implementasi Algoritma DDA"
   ]
  },
  {
   "cell_type": "markdown",
   "id": "fc23526e",
   "metadata": {},
   "source": [
    "## 1. Preparing\n",
    "\n",
    "Tahap pertama adalah mempersiapkan *library* yang dibutuhkan, yaitu `matplotlib.pyplot` untuk membuat grafik."
   ]
  },
  {
   "cell_type": "code",
   "execution_count": 1,
   "metadata": {},
   "outputs": [],
   "source": [
    "import matplotlib.pyplot as plt"
   ]
  },
  {
   "cell_type": "markdown",
   "metadata": {},
   "source": [
    "## 2. Input Titik & 3. Pilih Arah\n",
    "\n",
    "Meminta input dari pengguna untuk menentukan koordinat Titik A $(x_a, y_a)$ dan Titik B $(x_b, y_b)$, serta arah penggambaran garis."
   ]
  },
  {
   "cell_type": "code",
   "execution_count": 2,
   "metadata": {},
   "outputs": [],
   "source": [
    "x_a = float(input(\"Masukkan koordinat x untuk Titik A: \"))\n",
    "y_a = float(input(\"Masukkan koordinat y untuk Titik A: \"))\n",
    "x_b = float(input(\"Masukkan koordinat x untuk Titik B: \"))\n",
    "y_b = float(input(\"Masukkan koordinat y untuk Titik B: \"))\n",
    "\n",
    "direction = input(\"Pilih arah penggambaran (A ke B atau B ke A): \")"
   ]
  },
  {
   "cell_type": "markdown",
   "metadata": {},
   "source": [
    "## 4. Algoritma DDA\n",
    "\n",
    "Bagian ini berisi logika inti dari algoritma DDA.\n",
    "\n",
    "1.  Menentukan titik awal (`x_start`, `y_start`) dan titik akhir (`x_end`, `y_end`) berdasarkan input arah.\n",
    "2.  Menghitung selisih $dx$ ($x_{end} - x_{start}$) dan $dy$ ($y_{end} - y_{start}$).\n",
    "3.  Menentukan `steps`, yaitu nilai absolut terbesar antara $dx$ dan $dy$.\n",
    "4.  Menghitung `x_increment` ($dx / steps$) dan `y_increment` ($dy / steps$).\n",
    "5.  Melakukan iterasi sebanyak `steps`, dimulai dari titik awal. Di setiap iterasi, nilai $x$ dan $y$ saat ini dibulatkan dan disimpan, kemudian $x$ ditambah dengan `x_increment` dan $y$ ditambah dengan `y_increment`.\n",
    "6.  Menampilkan semua koordinat yang dihitung."
   ]
  },
  {
   "cell_type": "code",
   "execution_count": 3,
   "metadata": {},
   "outputs": [
    {
     "name": "stdout",
     "output_type": "stream",
     "text": [
      "Arah tidak valid. Menggunakan 'A ke B' secara default.\n",
      "Koordinat titik-titik yang dihitung:\n",
      "(20, 20)\n",
      "(21, 21)\n",
      "(22, 22)\n",
      "(23, 23)\n",
      "(24, 23)\n",
      "(25, 24)\n",
      "(26, 25)\n",
      "(27, 26)\n"
     ]
    }
   ],
   "source": [
    "if direction.lower() == \"a ke b\":\n",
    "    x_start, y_start = x_a, y_a\n",
    "    x_end, y_end = x_b, y_b\n",
    "elif direction.lower() == \"b ke a\":\n",
    "    x_start, y_start = x_b, y_b\n",
    "    x_end, y_end = x_a, y_a\n",
    "else:\n",
    "    print(\"Arah tidak valid. Menggunakan 'A ke B' secara default.\")\n",
    "    x_start, y_start = x_a, y_a\n",
    "    x_end, y_end = x_b, y_b\n",
    "\n",
    "dx = x_end - x_start\n",
    "dy = y_end - y_start\n",
    "\n",
    "steps = int(max(abs(dx), abs(dy)))\n",
    "\n",
    "if steps == 0:\n",
    "    x_increment = 0\n",
    "    y_increment = 0\n",
    "else:\n",
    "    x_increment = dx / steps\n",
    "    y_increment = dy / steps\n",
    "\n",
    "x = x_start\n",
    "y = y_start\n",
    "\n",
    "x_coords = []\n",
    "y_coords = []\n",
    "\n",
    "for i in range(steps + 1):\n",
    "    x_coords.append(round(x))\n",
    "    y_coords.append(round(y))\n",
    "    x += x_increment\n",
    "    y += y_increment\n",
    "\n",
    "print(\"Koordinat titik-titik yang dihitung:\")\n",
    "for i in range(len(x_coords)):\n",
    "    print(f\"({x_coords[i]}, {y_coords[i]})\")"
   ]
  },
  {
   "cell_type": "markdown",
   "metadata": {},
   "source": [
    "## 5. Gambar Garis & 6. Tampilkan Grafik\n",
    "\n",
    "Menggunakan koordinat yang telah dihitung (`x_coords` dan `y_coords`) untuk menggambar garis menggunakan `matplotlib`. Ini adalah bagian yang disempurnakan, karena file PDF asli hanya menampilkan grafik kosong."
   ]
  },
  {
   "cell_type": "code",
   "execution_count": 4,
   "metadata": {},
   "outputs": [
    {
     "data": {
      "image/png": "[encoded data removed]",
      "text/plain": [
       "<Figure size 640x480 with 1 Axes>"
      ]
     },
     "metadata": {},
     "output_type": "display_data"
    }
   ],
   "source": [
    "fig, ax = plt.subplots()\n",
    "\n",
    "ax.plot(x_coords, y_coords, marker='o', linestyle='-')\n",
    "\n",
    "ax.set_title(\"Hasil Algoritma DDA\")\n",
    "ax.set_xlabel(\"Koordinat X\")\n",
    "ax.set_ylabel(\"Koordinat Y\")\n",
    "ax.grid(True)\n",
    "ax.set_aspect('equal', adjustable='box')\n",
    "\n",
    "plt.show()"
   ]
  },
  {
   "cell_type": "markdown",
   "metadata": {},
   "source": [
    "## 7. Finish Task\n",
    "\n",
    "Program telah selesai dieksekusi dan grafik telah ditampilkan."
   ]
  }
 ],
 "metadata": {
  "kernelspec": {
   "display_name": "Python 3",
   "language": "python",
   "name": "python3"
  },
  "language_info": {
   "codemirror_mode": {
    "name": "ipython",
    "version": 3
   },
   "file_extension": ".py",
   "mimetype": "text/x-python",
   "name": "python",
   "nbconvert_exporter": "python",
   "pygments_lexer": "ipython3",
   "version": "3.13.1"
  }
 },
 "nbformat": 4,
 "nbformat_minor": 5
}
